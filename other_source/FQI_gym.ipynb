{
 "cells": [
  {
   "cell_type": "markdown",
   "id": "c09ada11-d3a6-4837-b4d0-9657106a54b5",
   "metadata": {
    "id": "c09ada11-d3a6-4837-b4d0-9657106a54b5"
   },
   "source": [
    "# RLSS2023 - DQN Tutorial: Fitted Q Iteration (FQI)\n",
    "\n",
    "Website: https://rlsummerschool.com/\n",
    "\n",
    "Github repository: https://github.com/araffin/rlss23-dqn-tutorial\n",
    "\n",
    "Gymnasium documentation: https://gymnasium.farama.org/\n",
    "\n",
    "## Introduction\n",
    "\n",
    "In this notebook, you will implement the Fitted Q Iteration( (FQI) algorithm to solve the [CartPole](https://gymnasium.farama.org/environments/classic_control/cart_pole/) problem.\n",
    "\n",
    "This notebooks will first cover the basics for using the Gymnasium library: how to instantiate an environment, step into it and collect training data from the FQI algorithm.\n",
    "\n",
    "You will then learn how to implement step-by-step the FQI algorithm which is the predecessor of the [Deep Q-Network (DQN)](https://stable-baselines3.readthedocs.io/en/master/modules/dqn.html) algorithm."
   ]
  },
  {
   "cell_type": "code",
   "execution_count": 1,
   "id": "7fe1a9aa-5735-4614-9a76-031656397899",
   "metadata": {
    "id": "7fe1a9aa-5735-4614-9a76-031656397899"
   },
   "outputs": [],
   "source": [
    "# for autoformatting\n",
    "#!pip install jupyter-black\n",
    "# %load_ext jupyter_black"
   ]
  },
  {
   "cell_type": "markdown",
   "id": "8188798b-daf5-43a7-91ec-a7a922bc2034",
   "metadata": {
    "id": "8188798b-daf5-43a7-91ec-a7a922bc2034"
   },
   "source": [
    "## Install Dependencies"
   ]
  },
  {
   "cell_type": "code",
   "execution_count": 15,
   "id": "0b55494c-fff2-4459-87e1-e7399afd56d5",
   "metadata": {
    "id": "0b55494c-fff2-4459-87e1-e7399afd56d5"
   },
   "outputs": [
    {
     "name": "stdout",
     "output_type": "stream",
     "text": [
      "Collecting git+https://github.com/araffin/rlss23-dqn-tutorial/\n",
      "  Cloning https://github.com/araffin/rlss23-dqn-tutorial/ to /private/var/folders/sd/ntm8vytx57g033nh4jm4j2700000gn/T/pip-req-build-_hih22xu\n",
      "  Running command git clone --filter=blob:none --quiet https://github.com/araffin/rlss23-dqn-tutorial/ /private/var/folders/sd/ntm8vytx57g033nh4jm4j2700000gn/T/pip-req-build-_hih22xu\n",
      "  Resolved https://github.com/araffin/rlss23-dqn-tutorial/ to commit 3070ad0d11f0ece870fb0f6978dc75911edeaca1\n",
      "  Installing build dependencies ... \u001b[?25ldone\n",
      "\u001b[?25h  Getting requirements to build wheel ... \u001b[?25ldone\n",
      "\u001b[?25h  Installing backend dependencies ... \u001b[?25ldone\n",
      "\u001b[?25h  Preparing metadata (pyproject.toml) ... \u001b[?25ldone\n",
      "\u001b[?25hRequirement already satisfied: numpy in /Users/a24395/anaconda3/lib/python3.11/site-packages (from dqn_tutorial==0.1.dev52+g3070ad0) (1.26.4)\n",
      "Requirement already satisfied: gymnasium[classic-control]<1.0,>=0.28.1 in /Users/a24395/anaconda3/lib/python3.11/site-packages (from dqn_tutorial==0.1.dev52+g3070ad0) (0.29.1)\n",
      "Collecting scikit-learn (from dqn_tutorial==0.1.dev52+g3070ad0)\n",
      "  Obtaining dependency information for scikit-learn from https://files.pythonhosted.org/packages/ce/41/5d882544fddba1ae476c240cdf4499743ea84bfeb54456d472966dc86355/scikit_learn-1.4.1.post1-cp311-cp311-macosx_10_9_x86_64.whl.metadata\n",
      "  Downloading scikit_learn-1.4.1.post1-cp311-cp311-macosx_10_9_x86_64.whl.metadata (11 kB)\n",
      "Requirement already satisfied: torch>=1.7.0 in /Users/a24395/anaconda3/lib/python3.11/site-packages (from dqn_tutorial==0.1.dev52+g3070ad0) (2.2.1)\n",
      "Requirement already satisfied: cloudpickle>=1.2.0 in /Users/a24395/anaconda3/lib/python3.11/site-packages (from gymnasium[classic-control]<1.0,>=0.28.1->dqn_tutorial==0.1.dev52+g3070ad0) (2.2.1)\n",
      "Requirement already satisfied: typing-extensions>=4.3.0 in /Users/a24395/anaconda3/lib/python3.11/site-packages (from gymnasium[classic-control]<1.0,>=0.28.1->dqn_tutorial==0.1.dev52+g3070ad0) (4.10.0)\n",
      "Requirement already satisfied: farama-notifications>=0.0.1 in /Users/a24395/anaconda3/lib/python3.11/site-packages (from gymnasium[classic-control]<1.0,>=0.28.1->dqn_tutorial==0.1.dev52+g3070ad0) (0.0.4)\n",
      "Requirement already satisfied: pygame>=2.1.3 in /Users/a24395/anaconda3/lib/python3.11/site-packages (from gymnasium[classic-control]<1.0,>=0.28.1->dqn_tutorial==0.1.dev52+g3070ad0) (2.5.2)\n",
      "Requirement already satisfied: filelock in /Users/a24395/anaconda3/lib/python3.11/site-packages (from torch>=1.7.0->dqn_tutorial==0.1.dev52+g3070ad0) (3.13.1)\n",
      "Requirement already satisfied: sympy in /Users/a24395/anaconda3/lib/python3.11/site-packages (from torch>=1.7.0->dqn_tutorial==0.1.dev52+g3070ad0) (1.11.1)\n",
      "Requirement already satisfied: networkx in /Users/a24395/anaconda3/lib/python3.11/site-packages (from torch>=1.7.0->dqn_tutorial==0.1.dev52+g3070ad0) (3.1)\n",
      "Requirement already satisfied: jinja2 in /Users/a24395/anaconda3/lib/python3.11/site-packages (from torch>=1.7.0->dqn_tutorial==0.1.dev52+g3070ad0) (3.1.3)\n",
      "Requirement already satisfied: fsspec in /Users/a24395/anaconda3/lib/python3.11/site-packages (from torch>=1.7.0->dqn_tutorial==0.1.dev52+g3070ad0) (2023.3.0)\n",
      "Requirement already satisfied: scipy>=1.6.0 in /Users/a24395/anaconda3/lib/python3.11/site-packages (from scikit-learn->dqn_tutorial==0.1.dev52+g3070ad0) (1.12.0)\n",
      "Requirement already satisfied: joblib>=1.2.0 in /Users/a24395/anaconda3/lib/python3.11/site-packages (from scikit-learn->dqn_tutorial==0.1.dev52+g3070ad0) (1.2.0)\n",
      "Requirement already satisfied: threadpoolctl>=2.0.0 in /Users/a24395/anaconda3/lib/python3.11/site-packages (from scikit-learn->dqn_tutorial==0.1.dev52+g3070ad0) (2.2.0)\n",
      "Requirement already satisfied: MarkupSafe>=2.0 in /Users/a24395/anaconda3/lib/python3.11/site-packages (from jinja2->torch>=1.7.0->dqn_tutorial==0.1.dev52+g3070ad0) (2.1.3)\n",
      "Requirement already satisfied: mpmath>=0.19 in /Users/a24395/anaconda3/lib/python3.11/site-packages (from sympy->torch>=1.7.0->dqn_tutorial==0.1.dev52+g3070ad0) (1.3.0)\n",
      "Downloading scikit_learn-1.4.1.post1-cp311-cp311-macosx_10_9_x86_64.whl (11.6 MB)\n",
      "\u001b[2K   \u001b[90m━━━━━━━━━━━━━━━━━━━━━━━━━━━━━━━━━━━━━━━━\u001b[0m \u001b[32m11.6/11.6 MB\u001b[0m \u001b[31m3.1 MB/s\u001b[0m eta \u001b[36m0:00:00\u001b[0m00:01\u001b[0m00:01\u001b[0m\n",
      "\u001b[?25hInstalling collected packages: scikit-learn\n",
      "Successfully installed scikit-learn-1.4.1.post1\n"
     ]
    }
   ],
   "source": [
    "!pip install git+https://github.com/araffin/rlss23-dqn-tutorial/ --upgrade"
   ]
  },
  {
   "cell_type": "code",
   "execution_count": 1,
   "id": "fae52974-fda2-487a-9f64-80bf58125785",
   "metadata": {
    "id": "fae52974-fda2-487a-9f64-80bf58125785"
   },
   "outputs": [],
   "source": [
    "# For visualization\n",
    "import ffmpeg"
   ]
  },
  {
   "cell_type": "markdown",
   "id": "e2369b55-266c-4dbe-b14d-250ef7386407",
   "metadata": {
    "id": "e2369b55-266c-4dbe-b14d-250ef7386407"
   },
   "source": [
    "## First steps with the Gym interface\n",
    "\n",
    "An environment that follows the [gym interface](https://gymnasium.farama.org/) is quite simple to use.\n",
    "It provides to this user mainly three methods, which have the following signature (for gym versions > 0.26):\n",
    "\n",
    "- `reset()` called at the beginning of an episode, it returns an observation and a dictionary with additional info (defaults to an empty dict)\n",
    "- `step(action)` called to take an action with the environment, it returns the next observation, the immediate reward, whether new state is a terminal state (episode is finished), whether the max number of timesteps is reached (episode is artificially finished), and additional information\n",
    "- (Optional) `render()` which allow to visualize the agent in action. Note that graphical interface does not work on google colab, so we cannot use it directly (we have to rely on `render_mode='rbg_array'` to retrieve an image of the scene).\n",
    "\n",
    "Under the hood, it also contains two useful properties:\n",
    "- `observation_space` which one of the gym spaces (`Discrete`, `Box`, ...) and describe the type and shape of the observation\n",
    "- `action_space` which is also a gym space object that describes the action space, so the type of action that can be taken\n",
    "\n",
    "The best way to learn about [gym spaces](https://gymnasium.farama.org/api/spaces/) is to look at the [source code](https://github.com/Farama-Foundation/Gymnasium/tree/main/gymnasium/spaces), but you need to know at least the main ones:\n",
    "- `gym.spaces.Box`: A (possibly unbounded) box in $R^n$. Specifically, a Box represents the Cartesian product of n closed intervals. Each interval has the form of one of [a, b], (-oo, b], [a, oo), or (-oo, oo). Example: A 1D-Vector or an image observation can be described with the Box space.\n",
    "```python\n",
    "# Example for using image as input:\n",
    "observation_space = spaces.Box(low=0, high=255, shape=(HEIGHT, WIDTH, N_CHANNELS), dtype=np.uint8)\n",
    "```                                       \n",
    "\n",
    "- `gym.spaces.Discrete`: A discrete space in $\\{ 0, 1, \\dots, n-1 \\}$\n",
    "  Example: if you have two actions (\"left\" and \"right\") you can represent your action space using `Discrete(2)`, the first action will be 0 and the second 1."
   ]
  },
  {
   "cell_type": "markdown",
   "id": "af049724-3db9-4dec-a40c-3aa025735f00",
   "metadata": {
    "id": "af049724-3db9-4dec-a40c-3aa025735f00"
   },
   "source": [
    "## CartPole Environment\n",
    "\n",
    "For this example, we will use CartPole environment, a classic control problem.\n",
    "\n",
    "\"A pole is attached by an un-actuated joint to a cart, which moves along a frictionless track. The system is controlled by applying a force of +1 or -1 to the cart. The pendulum starts upright, and the goal is to prevent it from falling over. A reward of +1 is provided for every timestep that the pole remains upright. \"\n",
    "\n",
    "Cartpole environment: [https://gymnasium.farama.org/environments/classic_control/cart_pole/](https://gymnasium.farama.org/environments/classic_control/cart_pole/)\n",
    "\n",
    "![Cartpole](https://cdn-images-1.medium.com/max/1143/1*h4WTQNVIsvMXJTCpXm_TAw.gif)"
   ]
  },
  {
   "cell_type": "code",
   "execution_count": 2,
   "id": "60ec422f-2edd-40df-8da2-c1093e1da38c",
   "metadata": {
    "id": "60ec422f-2edd-40df-8da2-c1093e1da38c"
   },
   "outputs": [],
   "source": [
    "import gymnasium as gym\n",
    "\n",
    "# Instantiate the environment\n",
    "env = gym.make(\"CartPole-v1\")"
   ]
  },
  {
   "cell_type": "code",
   "execution_count": 3,
   "id": "476f88b6-4fe2-45ec-bddd-4d83feb3a86f",
   "metadata": {
    "id": "476f88b6-4fe2-45ec-bddd-4d83feb3a86f"
   },
   "outputs": [
    {
     "name": "stdout",
     "output_type": "stream",
     "text": [
      "Observation space: Box([-4.8000002e+00 -3.4028235e+38 -4.1887903e-01 -3.4028235e+38], [4.8000002e+00 3.4028235e+38 4.1887903e-01 3.4028235e+38], (4,), float32)\n",
      "Shape: (4,)\n",
      "Action space: Discrete(2)\n"
     ]
    }
   ],
   "source": [
    "# Box(4,) means that it is a Vector with 4 components\n",
    "# State: (cart position, cart velocity, pole angle, pole angular velocity)\n",
    "print(\"Observation space:\", env.observation_space)\n",
    "print(\"Shape:\", env.observation_space.shape)\n",
    "\n",
    "# Discrete(2) means that there is two discrete actions (push to left or right)\n",
    "print(\"Action space:\", env.action_space)"
   ]
  },
  {
   "cell_type": "code",
   "execution_count": 4,
   "id": "e414990e-2cbd-4f6f-b268-42f16a9b253b",
   "metadata": {
    "id": "e414990e-2cbd-4f6f-b268-42f16a9b253b"
   },
   "outputs": [],
   "source": [
    "# The reset method is called at the beginning of an episode\n",
    "obs, info = env.reset()"
   ]
  },
  {
   "cell_type": "code",
   "execution_count": 5,
   "id": "e89a95c8-d64a-43a3-adee-344891bbd1b7",
   "metadata": {
    "id": "e89a95c8-d64a-43a3-adee-344891bbd1b7"
   },
   "outputs": [
    {
     "name": "stdout",
     "output_type": "stream",
     "text": [
      "Sampled action: 0\n"
     ]
    }
   ],
   "source": [
    "# Sample a random action\n",
    "action = env.action_space.sample()\n",
    "print(f\"Sampled action: {action}\")"
   ]
  },
  {
   "cell_type": "code",
   "execution_count": 6,
   "id": "311777a2-9518-496a-b1e8-0eb1af81fb7d",
   "metadata": {
    "id": "311777a2-9518-496a-b1e8-0eb1af81fb7d"
   },
   "outputs": [
    {
     "name": "stdout",
     "output_type": "stream",
     "text": [
      "Next state: [ 0.02534127 -0.20729987 -0.0179329   0.26929793], reward: 1.0\n",
      "If the game terminates: False, if the game is truncated: False\n",
      "Other information: {}\n"
     ]
    }
   ],
   "source": [
    "# step in the environment\n",
    "# next agent obs, the reward, if the environment has terminated or truncated\n",
    "# due to the latest action and information from the environment about the step\n",
    "obs, reward, terminated, truncated, info = env.step(action)\n",
    "print(f\"Next state: {obs}, reward: {reward}\")\n",
    "print(f\"If the game terminates: {terminated}, if the game is truncated: {truncated}\")\n",
    "print(f\"Other information: {info}\")"
   ]
  },
  {
   "cell_type": "code",
   "execution_count": 7,
   "id": "5102a9c8-8407-4f88-b58d-4e3e5a00af3b",
   "metadata": {
    "id": "5102a9c8-8407-4f88-b58d-4e3e5a00af3b"
   },
   "outputs": [
    {
     "name": "stdout",
     "output_type": "stream",
     "text": [
      "(4,) 1.0 False False {}\n"
     ]
    }
   ],
   "source": [
    "# Note the obs is a numpy array\n",
    "# info is an empty dict for now but can contain any debugging info\n",
    "# reward is a scalar\n",
    "print(obs.shape, reward, terminated, truncated, info)"
   ]
  },
  {
   "cell_type": "markdown",
   "id": "90fbec50-1da0-4bc4-8b88-79fa38480bfe",
   "metadata": {
    "id": "90fbec50-1da0-4bc4-8b88-79fa38480bfe"
   },
   "source": [
    "### Exercise (10 minutes): write the function to collect data\n",
    "\n",
    "This function collects an offline dataset of transitions that will be used to train a model using the FQI algorithm.\n",
    "\n",
    "See docstring of the function for what is expected as input/output."
   ]
  },
  {
   "cell_type": "code",
   "execution_count": 8,
   "id": "1f1b3ff1-911b-4582-91f7-49420380eda3",
   "metadata": {
    "id": "1f1b3ff1-911b-4582-91f7-49420380eda3"
   },
   "outputs": [],
   "source": [
    "from dataclasses import dataclass\n",
    "\n",
    "import numpy as np\n",
    "from gymnasium import spaces\n",
    "\n",
    "\n",
    "@dataclass\n",
    "class OfflineData:\n",
    "    \"\"\"\n",
    "    A class to store transitions.\n",
    "    \"\"\"\n",
    "\n",
    "    observations: np.ndarray  # same as \"state\" in the theory\n",
    "    next_observations: np.ndarray\n",
    "    actions: np.ndarray\n",
    "    rewards: np.ndarray\n",
    "    terminateds: np.ndarray"
   ]
  },
  {
   "cell_type": "markdown",
   "id": "ac6bdde9-0b87-4449-b09d-de0ba2d7a2ac",
   "metadata": {
    "id": "ac6bdde9-0b87-4449-b09d-de0ba2d7a2ac"
   },
   "source": [
    "**HINT**: Take a look at the slide on Gym API or at the Gymnasium documentation: https://gymnasium.farama.org/"
   ]
  },
  {
   "cell_type": "code",
   "execution_count": 9,
   "id": "f9f753ed-5f5d-4133-ab82-c84b3cfe2eef",
   "metadata": {
    "id": "f9f753ed-5f5d-4133-ab82-c84b3cfe2eef"
   },
   "outputs": [],
   "source": [
    "def collect_data(env_id: str, n_steps: int = 50_000) -> OfflineData:\n",
    "    \"\"\"\n",
    "    Collect transitions using a random agent (sample action randomly).\n",
    "\n",
    "    :param env_id: The name of the environment.\n",
    "    :param n_steps: Number of steps to perform in the env.\n",
    "    :return: The collected transitions.\n",
    "    \"\"\"\n",
    "    # Create the Gym env\n",
    "    env = gym.make(env_id)\n",
    "\n",
    "    assert isinstance(env.observation_space, spaces.Box)\n",
    "    # Numpy arrays (buffers) to collect the data\n",
    "    observations = np.zeros((n_steps, *env.observation_space.shape))\n",
    "    next_observations = np.zeros((n_steps, *env.observation_space.shape))\n",
    "    \n",
    "    # Discrete actions\n",
    "    actions = np.zeros((n_steps, 1))\n",
    "    rewards = np.zeros((n_steps,))\n",
    "    terminateds = np.zeros((n_steps,))\n",
    "\n",
    "    # Variable to know if the episode is over, either terminated or truncated\n",
    "    done = False\n",
    "\n",
    "    ### YOUR CODE HERE\n",
    "    # You need to collect transitions for `n_steps` using\n",
    "    # a random agent (sample action uniformly).\n",
    "    # Do not forget to reset the environment if the current episode is over\n",
    "    # (done = terminated or truncated)\n",
    "    #\n",
    "    # TODO:\n",
    "    # 1. Sample a random action\n",
    "    # 2. Step in the env using this random action\n",
    "    # 3. Retrieve the new transition data (observation, reward, ...)\n",
    "    #  and update the numpy arrays (buffers)\n",
    "    # 4. Repeat until you collected `n_steps` transitions\n",
    "\n",
    "    # Start the first episode\n",
    "    current_obs, _ = env.reset()\n",
    "\n",
    "    for idx in range(n_steps):\n",
    "        # Sample a random action\n",
    "        action = env.action_space.sample()\n",
    "\n",
    "        # Step in the environment\n",
    "        next_obs, reward, terminated, truncated, info = env.step(action)\n",
    "\n",
    "        # Store the transition\n",
    "        # Note: we only record true termination (timeouts/truncations are artificial terminations)\n",
    "        observations[idx,:] = current_obs\n",
    "        next_observations[idx,:] = next_obs\n",
    "        actions[idx,:] = action\n",
    "        rewards[idx] = reward\n",
    "        terminateds[idx] = terminated\n",
    "\n",
    "        # Update current observation\n",
    "        current_obs = next_obs\n",
    "\n",
    "        # Check if the episode is over\n",
    "        done = terminated or truncated\n",
    "\n",
    "        # Don't forget to reset the env at the end of an episode\n",
    "        if done:\n",
    "            current_obs, _ = env.reset()\n",
    "\n",
    "\n",
    "    ### END OF YOUR CODE\n",
    "\n",
    "    return OfflineData(\n",
    "        observations,\n",
    "        next_observations,\n",
    "        actions,\n",
    "        rewards,\n",
    "        terminateds,\n",
    "    )"
   ]
  },
  {
   "cell_type": "markdown",
   "id": "dbe5d4b3-d3d6-4f82-9337-a8566c1fc707",
   "metadata": {
    "id": "dbe5d4b3-d3d6-4f82-9337-a8566c1fc707"
   },
   "source": [
    "Let's try the collect data method:"
   ]
  },
  {
   "cell_type": "code",
   "execution_count": 10,
   "id": "f499a940-a35f-4b8c-86bb-94231c41a87e",
   "metadata": {
    "id": "f499a940-a35f-4b8c-86bb-94231c41a87e"
   },
   "outputs": [],
   "source": [
    "env_id = \"CartPole-v1\"\n",
    "n_steps = 50000\n",
    "# Collect transitions for n_steps\n",
    "data = collect_data(env_id=env_id, n_steps=n_steps)"
   ]
  },
  {
   "cell_type": "code",
   "execution_count": 11,
   "id": "8ae0713b-63f3-40f0-8471-f3f7e3c53f88",
   "metadata": {
    "id": "8ae0713b-63f3-40f0-8471-f3f7e3c53f88"
   },
   "outputs": [],
   "source": [
    "# Check the length of the collected data\n",
    "assert len(data.observations) == n_steps\n",
    "assert len(data.actions) == n_steps\n",
    "# Check that there are multiple episodes in the data\n",
    "assert not np.all(data.terminateds)\n",
    "assert np.any(data.terminateds)\n",
    "# Check the shape of the collected data\n",
    "if env_id == \"CartPole-v1\":\n",
    "    assert data.observations.shape == (n_steps, 4)\n",
    "    assert data.next_observations.shape == (n_steps, 4)\n",
    "assert data.actions.shape == (n_steps, 1)\n",
    "assert data.rewards.shape == (n_steps,)"
   ]
  },
  {
   "cell_type": "code",
   "execution_count": 16,
   "id": "f815ff42-3c8e-4ab5-835f-70438171751b",
   "metadata": {
    "id": "f815ff42-3c8e-4ab5-835f-70438171751b"
   },
   "outputs": [
    {
     "name": "stdout",
     "output_type": "stream",
     "text": [
      "Saving to /Users/a24395/Desktop/files/PhD_Coursework/Year2/RL_seminar/Code/Gym_FQI_DQN/data_FQI/CartPole-v1_data.npz\n"
     ]
    }
   ],
   "source": [
    "from pathlib import Path\n",
    "\n",
    "from dqn_tutorial.fqi import save_data\n",
    "\n",
    "output_filename = Path().absolute() / \"data_FQI\" / f\"{env_id}_data\"\n",
    "\n",
    "# Create folder if it doesn't exist\n",
    "output_filename.parent.mkdir(parents=True, exist_ok=True)\n",
    "\n",
    "# Save collected data using numpy\n",
    "save_data(data, output_filename)"
   ]
  },
  {
   "cell_type": "markdown",
   "id": "2ff52b1a-6eb1-4284-b25f-8d59ab005ed5",
   "metadata": {
    "id": "2ff52b1a-6eb1-4284-b25f-8d59ab005ed5"
   },
   "source": [
    "## Fitted Q Iteration (FQI) Algorithm\n",
    "\n",
    "Fitted Q Iteration (FQI) is an algorithm that extends q-learning to continuous state space using function estimators.\n",
    "\n",
    "It iteratively approximates the q-values for a given dataset of transitions (state, action, reward, next_state) by iteratively solving a regression problem.\n",
    "\n",
    "Compared to later algorithms like DQN, FQI uses the whole dataset at every iteration (working on the whole batch instead of using minibatches).\n",
    "\n",
    "\n",
    "<div>\n",
    "    <img src=\"https://araffin.github.io/slides/dqn-tutorial/images/fqi/tabular_limit_2.png\" width=\"500\"/>\n",
    "</div>"
   ]
  },
  {
   "cell_type": "code",
   "execution_count": 17,
   "id": "045b251a-9ace-450b-afa9-7ee4128cdef6",
   "metadata": {
    "id": "045b251a-9ace-450b-afa9-7ee4128cdef6"
   },
   "outputs": [],
   "source": [
    "from functools import partial\n",
    "from pathlib import Path\n",
    "from typing import Optional\n",
    "\n",
    "import gymnasium as gym\n",
    "import numpy as np\n",
    "from gymnasium import spaces\n",
    "from sklearn import tree\n",
    "from sklearn.base import RegressorMixin\n",
    "from sklearn.exceptions import NotFittedError\n",
    "from sklearn.ensemble import GradientBoostingRegressor, RandomForestRegressor\n",
    "from sklearn.linear_model import LinearRegression\n",
    "from sklearn.preprocessing import PolynomialFeatures\n",
    "from sklearn.neighbors import KNeighborsRegressor"
   ]
  },
  {
   "cell_type": "markdown",
   "id": "239ad0de-bec9-4918-a691-4322d062c45a",
   "metadata": {
    "id": "239ad0de-bec9-4918-a691-4322d062c45a"
   },
   "source": [
    "### Choosing a Model\n",
    "\n",
    "With FQI, you can use any regression model.\n",
    "\n",
    "Here we are choosing a [k-nearest neighbors regressor](https://scikit-learn.org/stable/modules/neighbors.html#regression), but one could choose a linear model, a decision tree, a neural network, ..."
   ]
  },
  {
   "cell_type": "code",
   "execution_count": 18,
   "id": "1d8d873e-bc40-4a35-b98b-4fe9ce916aab",
   "metadata": {
    "id": "1d8d873e-bc40-4a35-b98b-4fe9ce916aab"
   },
   "outputs": [],
   "source": [
    "# First choose the regressor\n",
    "model_class = partial(KNeighborsRegressor, n_neighbors=30)  # LinearRegression, GradientBoostingRegressor"
   ]
  },
  {
   "cell_type": "markdown",
   "id": "be7a24b4-a416-4607-af3a-9dfdbc203fc1",
   "metadata": {
    "id": "be7a24b4-a416-4607-af3a-9dfdbc203fc1"
   },
   "source": [
    "### Loading offline dataset\n",
    "\n",
    "The offline dataset contains the transitions collected using a random agent."
   ]
  },
  {
   "cell_type": "code",
   "execution_count": 19,
   "id": "1fe29bd2-ea95-4778-b466-537a088615b0",
   "metadata": {
    "id": "1fe29bd2-ea95-4778-b466-537a088615b0"
   },
   "outputs": [],
   "source": [
    "from dqn_tutorial.fqi import load_data\n",
    "\n",
    "env_id = \"CartPole-v1\"\n",
    "output_filename = Path(\"./data_FQI\") / f\"{env_id}_data.npz\"\n",
    "render_mode = \"rgb_array\"\n",
    "\n",
    "# Create test environment\n",
    "env = gym.make(env_id, render_mode=render_mode)\n",
    "\n",
    "# Load saved transitions\n",
    "data = load_data(output_filename)"
   ]
  },
  {
   "cell_type": "markdown",
   "id": "a7c0f461-9c04-48f2-ad57-21b555a7c041",
   "metadata": {
    "id": "a7c0f461-9c04-48f2-ad57-21b555a7c041"
   },
   "source": [
    "### First Iteration of FQI\n",
    "\n",
    "For $n = 0$, the initial training set is defined as:\n",
    "\n",
    "- $x = (s_t, a_t)$\n",
    "- $y = r_t$\n",
    "\n",
    "We fit a regression model $f_\\theta(x) = y$ to obtain $ Q^{n=0}_\\theta(s, a) $"
   ]
  },
  {
   "cell_type": "code",
   "execution_count": 20,
   "id": "26940b3e-4c9a-4632-a198-2e0ce7b12b88",
   "metadata": {
    "id": "26940b3e-4c9a-4632-a198-2e0ce7b12b88"
   },
   "outputs": [],
   "source": [
    "# First iteration:\n",
    "# The target q-value is the reward obtained\n",
    "targets = data.rewards.copy()\n",
    "# Create input for current observations and actions\n",
    "# Concatenate the observations and actions\n",
    "# so we can predict qf(s_t, a_t)\n",
    "current_obs_input = np.concatenate((data.observations, data.actions), axis=1)\n",
    "# Fit the estimator for the current target\n",
    "model = model_class().fit(current_obs_input, targets)"
   ]
  },
  {
   "cell_type": "markdown",
   "id": "5bf9544c-87f4-4872-9ae9-eef49c3a040a",
   "metadata": {
    "id": "5bf9544c-87f4-4872-9ae9-eef49c3a040a"
   },
   "source": [
    "### 1. Exercise (10 minutes): write the function to predict Q-Values\n",
    "\n",
    "\n",
    "<div>\n",
    "    <img src=\"https://araffin.github.io/slides/dqn-tutorial/images/fqi/q_value_fqi.png\" width=\"300\"/>\n",
    "</div>\n",
    "\n",
    "**HINT**: Check the first iteration of FQI to know how to create the input to the regression model\n",
    "\n",
    "\n",
    "**HINT**: For efficiency, we are not working with one transition at a time but on a batch of transitions/observations. The resulting `q_values` are therefore a matrix of shape `(batch_size, n_actions)` where `batch_size` is the size of the batch of observations (aka number of observations used at once) and `n_actions` is the number of available actions (`n_actions=2` for CartPole, as we can only go left or right)\n",
    "\n",
    "Below is a diagram explaining how the predicted `q_values` will be stored.\n",
    "\n",
    "Row-wise, we get the q-values estimates for all possible actions but for one single observation (state):\n",
    "\n",
    "<div>\n",
    "    <img src=\"https://araffin.github.io/slides/dqn-tutorial/images/sklearn/q_value_batch.png\" width=\"500\"/>\n",
    "    <br>\n",
    "</div>\n",
    "\n",
    "Column-wise, we get the q-values estimates for a given action but for a batch of observations (states):\n",
    "<div>\n",
    "    <img src=\"https://araffin.github.io/slides/dqn-tutorial/images/sklearn/q_value_batch_2.png\" width=\"400\"/>\n",
    "</div>"
   ]
  },
  {
   "cell_type": "code",
   "execution_count": 21,
   "id": "1d1c52d1-4336-4caa-9d91-cfb641e7972a",
   "metadata": {
    "id": "1d1c52d1-4336-4caa-9d91-cfb641e7972a"
   },
   "outputs": [],
   "source": [
    "def get_q_values(\n",
    "    model: RegressorMixin,\n",
    "    obs: np.ndarray,\n",
    "    n_actions: int,\n",
    ") -> np.ndarray:\n",
    "    \"\"\"\n",
    "    Retrieve the q-values for a set of observations(=states in the theory).\n",
    "    qf(s_t, action) for all possible actions.\n",
    "\n",
    "    :param model: Q-value estimator\n",
    "    :param obs: A batch of observations\n",
    "    :param n_actions: Number of discrete actions.\n",
    "    :return: The predicted q-values for the given observations\n",
    "        (batch_size, n_actions)\n",
    "    \"\"\"\n",
    "    batch_size = len(obs)\n",
    "    q_values = np.zeros((batch_size, n_actions))\n",
    "\n",
    "    ### YOUR CODE HERE\n",
    "    # TODO: for every possible actions a:\n",
    "    # 1. Create the regression model input $(s, a)$ for the action a\n",
    "    # and states s (here a batch of observations)\n",
    "    # 2. Predict the q-values for the batch of states\n",
    "    # 3. Update q-values array for the current action a\n",
    "\n",
    "    # Predict q-value for each action\n",
    "    for action_idx in range(n_actions):\n",
    "        # Note: we should do one hot encoding if not using CartPole (n_actions > 2)\n",
    "        # Create a vector of size (batch_size, 1) for the current action\n",
    "        # This allows to do batch prediction for all the provided observations\n",
    "        actions = action_idx * np.ones((batch_size, 1))\n",
    "        # Concatenate the observations and the actions to obtain\n",
    "        # the input to the q-value estimator\n",
    "        # you can use `np.concatenate()`\n",
    "        model_input = np.concatenate((obs,actions),axis = 1)\n",
    "\n",
    "        # Predict q-values for the given observation/action combination\n",
    "        # shape: (batch_size, 1)\n",
    "        # with a scikit-learn model, you can `model.predict()`\n",
    "        model_output = model.predict(model_input)\n",
    "\n",
    "        # Update the q-values array for the current action\n",
    "        # q_values is of shape (batch_size, n_actions)\n",
    "        q_values[:,action_idx] = model_output\n",
    "\n",
    "    ### END OF YOUR CODE\n",
    "\n",
    "    return q_values"
   ]
  },
  {
   "cell_type": "markdown",
   "id": "353de669-1744-43be-a3dc-5310d23c72a4",
   "metadata": {
    "id": "353de669-1744-43be-a3dc-5310d23c72a4"
   },
   "source": [
    "Let's test it with a subset of the collected data:"
   ]
  },
  {
   "cell_type": "code",
   "execution_count": 22,
   "id": "6910968b-16db-41fe-a6d9-ff8c65322c85",
   "metadata": {
    "id": "6910968b-16db-41fe-a6d9-ff8c65322c85"
   },
   "outputs": [],
   "source": [
    "n_observations = 2\n",
    "n_actions = int(env.action_space.n)\n",
    "\n",
    "q_values = get_q_values(model, data.observations[:n_observations], n_actions)\n",
    "\n",
    "assert q_values.shape == (n_observations, n_actions)"
   ]
  },
  {
   "cell_type": "markdown",
   "id": "a883ff38-48e9-4f7c-8692-33a9d1b325d2",
   "metadata": {
    "id": "a883ff38-48e9-4f7c-8692-33a9d1b325d2"
   },
   "source": [
    "### 2. Exercise (8 minutes): write the function to evaluate a model\n",
    "\n",
    "A greedy policy $\\pi(s)$ can be defined using the q-value:\n",
    "\n",
    "$\\pi(s) = argmax_{a \\in A} Q(s, a)$.\n",
    "\n",
    "It is the policy that takes the action with the highest q-value for a given state."
   ]
  },
  {
   "cell_type": "code",
   "execution_count": 23,
   "id": "2b1f4b18-a811-43fa-925d-20ad2f4d52d7",
   "metadata": {
    "id": "2b1f4b18-a811-43fa-925d-20ad2f4d52d7"
   },
   "outputs": [],
   "source": [
    "import os\n",
    "\n",
    "from gymnasium.wrappers.monitoring.video_recorder import VideoRecorder\n",
    "\n",
    "\n",
    "def evaluate(\n",
    "    model: RegressorMixin,\n",
    "    env: gym.Env,\n",
    "    n_eval_episodes: int = 10,\n",
    "    video_name: Optional[str] = None,\n",
    ") -> None:\n",
    "    episode_returns, episode_reward = [], 0.0\n",
    "    total_episodes = 0\n",
    "    done = False\n",
    "\n",
    "    # Setup video recorder\n",
    "    video_recorder = None\n",
    "    if video_name is not None and env.render_mode == \"rgb_array\":\n",
    "        os.makedirs(\"./videos/\", exist_ok=True)\n",
    "\n",
    "        video_recorder = VideoRecorder(\n",
    "            env=env,\n",
    "            base_path=f\"./videos/{video_name}\",\n",
    "        )\n",
    "\n",
    "    current_obs, _ = env.reset()\n",
    "    # Number of discrete actions\n",
    "    n_actions = int(env.action_space.n)\n",
    "    assert isinstance(env.action_space, spaces.Discrete), \"FQI only support discrete actions\"\n",
    "\n",
    "    while total_episodes < n_eval_episodes:\n",
    "        # Record video\n",
    "        if video_recorder is not None:\n",
    "            video_recorder.capture_frame()\n",
    "\n",
    "        ### YOUR CODE HERE\n",
    "\n",
    "        # Retrieve the q-values for the current observation\n",
    "        # you need to re-use `get_q_values()`\n",
    "        # Note: you need to add a batch dimension to the observation\n",
    "        # you can use `current_obs[np.newaxis, ...]` for that: (obs_dim,) -> (batch_size=1, obs_dim)\n",
    "        q_values =  get_q_values(model,current_obs[np.newaxis, ...],n_actions)\n",
    "\n",
    "        # Select the action that maximizes the q-value for each state\n",
    "        # Don't forget to remove the batch dimension, you can use `.item()` for that\n",
    "        best_action = np.argmax(q_values,axis = 1).item()\n",
    "\n",
    "        # Send the action to the env and update current observation\n",
    "        curent_obs, reward, terminated, truncated, info = env.step(action)\n",
    "\n",
    "        ### END OF YOUR CODE\n",
    "\n",
    "        episode_reward += float(reward)\n",
    "\n",
    "        done = terminated or truncated\n",
    "        if done:\n",
    "            episode_returns.append(episode_reward)\n",
    "            episode_reward = 0.0\n",
    "            total_episodes += 1\n",
    "            current_obs, _ = env.reset()\n",
    "\n",
    "    if video_recorder is not None:\n",
    "        print(f\"Saving video to {video_recorder.path}\")\n",
    "        video_recorder.close()\n",
    "\n",
    "    print(f\"Total reward = {np.mean(episode_returns):.2f} +/- {np.std(episode_returns):.2f}\")"
   ]
  },
  {
   "cell_type": "code",
   "execution_count": 24,
   "id": "23e326d9-1fa7-4efd-a841-b1d9e5ef9484",
   "metadata": {
    "id": "23e326d9-1fa7-4efd-a841-b1d9e5ef9484"
   },
   "outputs": [
    {
     "name": "stdout",
     "output_type": "stream",
     "text": [
      "Total reward = 9.00 +/- 0.63\n"
     ]
    }
   ],
   "source": [
    "# Evaluate the first iteration\n",
    "evaluate(model, env, n_eval_episodes=10)"
   ]
  },
  {
   "cell_type": "markdown",
   "id": "eced782e-653d-4041-8473-2c39d12ba9a9",
   "metadata": {
    "id": "eced782e-653d-4041-8473-2c39d12ba9a9"
   },
   "source": [
    "### 3. Exercise (20 minutes): the Fitted Q Iterations\n",
    "\n",
    "1. Create the training set based on the previous iteration $ Q^{n-1}_\\theta(s, a) $ and the transitions:\n",
    "- input: $x = (s_t, a_t)$\n",
    "- if $s_{t+1}$ is non-terminal: $y = r_t + \\gamma \\cdot \\max_{a' \\in A}(Q^{n-1}_\\theta(s_{t+1}, a'))$\n",
    "- if $s_{t+1}$ is terminal, do not bootstrap: $y = r_t$\n",
    "\n",
    "2. Fit a model $f_\\theta$ using a regression algorithm to obtain $ Q^{n}_\\theta(s, a)$\n",
    "\n",
    "\\begin{aligned}\n",
    " f_\\theta(x) = y\n",
    "\\end{aligned}\n",
    "\n",
    "3. Repeat, $n = n + 1$"
   ]
  },
  {
   "cell_type": "markdown",
   "id": "5d824b98-6360-4d4e-a3e2-584c0c36665e",
   "metadata": {
    "id": "5d824b98-6360-4d4e-a3e2-584c0c36665e"
   },
   "source": [
    "First, let's define some constants:"
   ]
  },
  {
   "cell_type": "code",
   "execution_count": 25,
   "id": "7cbff0d8-eab0-4cec-847e-23bc1c509359",
   "metadata": {
    "id": "7cbff0d8-eab0-4cec-847e-23bc1c509359"
   },
   "outputs": [],
   "source": [
    "# Max number of iterations\n",
    "n_iterations = 20\n",
    "# How often do we evaluate the learned model\n",
    "eval_freq = 2\n",
    "# How many episodes to evaluate every eval-freq\n",
    "n_eval_episodes = 20\n",
    "# discount factor\n",
    "gamma = 0.99\n",
    "# Number of discrete actions\n",
    "n_actions = int(env.action_space.n)"
   ]
  },
  {
   "cell_type": "markdown",
   "id": "18d564da-7170-4bf8-8259-f19d0b12bcbd",
   "metadata": {
    "id": "18d564da-7170-4bf8-8259-f19d0b12bcbd"
   },
   "source": [
    "Then do several iteration of the FQI algorithm\n",
    "\n",
    "**HINT**: For that exercise, you should take a look at the first iteration of FQI.\n",
    "\n",
    "**HINT**: The`data` variable (containing the offline dataset) is an instance of `OfflineData`:\n",
    "\n",
    "```python\n",
    "@dataclass\n",
    "class OfflineData:\n",
    "    \"\"\"\n",
    "    A class to store transitions.\n",
    "    \"\"\"\n",
    "\n",
    "    observations: np.ndarray  # same as \"state\" in the theory\n",
    "    next_observations: np.ndarray\n",
    "    actions: np.ndarray\n",
    "    rewards: np.ndarray\n",
    "    terminateds: np.ndarray\n",
    "```"
   ]
  },
  {
   "cell_type": "code",
   "execution_count": 26,
   "id": "45dbbc13-5332-4f2b-8cfe-0b7d5464e853",
   "metadata": {
    "id": "45dbbc13-5332-4f2b-8cfe-0b7d5464e853"
   },
   "outputs": [
    {
     "name": "stdout",
     "output_type": "stream",
     "text": [
      "<class 'dqn_tutorial.fqi.collect_data.OfflineData'>\n",
      "(50000, 4)\n"
     ]
    }
   ],
   "source": [
    "# Load saved transitions\n",
    "data = load_data(output_filename)\n",
    "\n",
    "print(type(data))\n",
    "print(data.observations.shape)"
   ]
  },
  {
   "cell_type": "markdown",
   "id": "acb8ef52-67c8-4290-b679-67b40025caed",
   "metadata": {
    "id": "acb8ef52-67c8-4290-b679-67b40025caed"
   },
   "source": [
    "**HINT**: As for the first exercise, we are working here with a batch of data. Thanks to numpy, you can efficiently compute the max over a batch:\n",
    "\n",
    "<div>\n",
    "    <img src=\"https://araffin.github.io/slides/dqn-tutorial/images/sklearn/q_values_max.png\" width=\"500\"/>\n",
    "</div>\n",
    "\n",
    "**HINT**: Using masking, you can elegantly handle the two cases for the regression target. The value of $y$ depends on whether the episode is terminated or not (in one case we bootstrap using the q-value, in the other case, we do not bootstrap and use the terminal reward instead).\n",
    "\n",
    "Visually, masking is an element-wise operation:\n",
    "\n",
    "<div>\n",
    "    <img src=\"https://araffin.github.io/slides/dqn-tutorial/images/sklearn/masking.png\" width=\"500\"/>\n",
    "</div>\n",
    "\n"
   ]
  },
  {
   "cell_type": "code",
   "execution_count": 27,
   "id": "21c99207-4a80-4263-8b13-1818f65632e1",
   "metadata": {
    "id": "21c99207-4a80-4263-8b13-1818f65632e1"
   },
   "outputs": [
    {
     "name": "stdout",
     "output_type": "stream",
     "text": [
      "Iter 2\n",
      "Score: 0.73\n",
      "Total reward = 9.25 +/- 0.77\n",
      "Iter 4\n",
      "Score: 0.86\n",
      "Total reward = 9.35 +/- 0.65\n",
      "Iter 6\n",
      "Score: 0.90\n",
      "Total reward = 9.45 +/- 0.86\n",
      "Iter 8\n",
      "Score: 0.92\n",
      "Total reward = 9.40 +/- 0.73\n",
      "Iter 10\n",
      "Score: 0.93\n",
      "Total reward = 9.70 +/- 0.78\n",
      "Iter 12\n",
      "Score: 0.93\n",
      "Total reward = 9.50 +/- 0.74\n",
      "Iter 14\n",
      "Score: 0.93\n",
      "Total reward = 9.60 +/- 0.73\n",
      "Iter 16\n",
      "Score: 0.94\n",
      "Total reward = 9.15 +/- 0.73\n",
      "Iter 18\n",
      "Score: 0.94\n",
      "Total reward = 9.15 +/- 0.65\n",
      "Iter 20\n",
      "Score: 0.94\n",
      "Total reward = 9.55 +/- 0.74\n"
     ]
    }
   ],
   "source": [
    "for iter_idx in range(n_iterations):\n",
    "    ### YOUR CODE HERE\n",
    "    # TODO:\n",
    "    # 1. Compute the q values for the next states using\n",
    "    # the previous regression model\n",
    "    # 2. Keep only the next q values that correspond\n",
    "    # to the greedy-policy\n",
    "    # 3. Construct the regression target (TD(0) target)\n",
    "    # 4. Fit a new regression model with this new target\n",
    "\n",
    "    # First, retrieve the q-values for the next states (data.next_observations)\n",
    "    # for all possible actions\n",
    "    # you need to use `get_q_values()` method\n",
    "    next_q_values =  get_q_values(model,data.next_observations,n_actions = n_actions)\n",
    "\n",
    "    # Follow-greedy policy: use the action with the highest q-value\n",
    "    # to compute the next q-values\n",
    "    next_q_values_max = np.max(next_q_values,axis = 1)\n",
    "\n",
    "    # The new target is the reward + what our agent expect to get\n",
    "    # if it follows a greedy policy (follow action with the highest q-value)\n",
    "    # Reminder: you should not bootstrap if terminated=True\n",
    "    # (you can mask the next q values for that using `np.logical_not`)\n",
    "    should_bootstrap = np.logical_not(data.terminateds)\n",
    "    \n",
    "    # Q-learning update with masking\n",
    "    targets = data.rewards + gamma * should_bootstrap * next_q_values_max\n",
    "\n",
    "\n",
    "    # Update the q-value estimate for the current (observations, actions) pair\n",
    "    # (current_obs_input)\n",
    "    # with the current target,\n",
    "    # i.e., fit a regression model using the new target\n",
    "    # Note: you can use `model_class()` to instantiate a new model\n",
    "    model = model_class().fit(current_obs_input,targets)\n",
    "\n",
    "\n",
    "    ### END OF YOUR CODE\n",
    "\n",
    "    if (iter_idx + 1) % eval_freq == 0:\n",
    "        print(f\"Iter {iter_idx + 1}\")\n",
    "        print(f\"Score: {model.score(current_obs_input, targets):.2f}\")\n",
    "        evaluate(model, env, n_eval_episodes)"
   ]
  },
  {
   "cell_type": "markdown",
   "id": "e3477740-bfe4-4e0b-8a5d-cd0206786c8b",
   "metadata": {
    "id": "e3477740-bfe4-4e0b-8a5d-cd0206786c8b"
   },
   "source": [
    "### Record a video of the trained agent"
   ]
  },
  {
   "cell_type": "markdown",
   "id": "31b68a7b",
   "metadata": {},
   "source": [
    "# BE CAREFUL: \n",
    "Please install the latest version of moviepy to avoid bugs!!!"
   ]
  },
  {
   "cell_type": "code",
   "execution_count": 29,
   "id": "da8d90cc-2d77-4682-a97c-a3dacd081f38",
   "metadata": {
    "id": "da8d90cc-2d77-4682-a97c-a3dacd081f38"
   },
   "outputs": [
    {
     "name": "stdout",
     "output_type": "stream",
     "text": [
      "Saving video to ./videos/video.mp4\n",
      "Moviepy - Building video ./videos/video.mp4.\n",
      "Moviepy - Writing video ./videos/video.mp4\n",
      "\n"
     ]
    },
    {
     "name": "stderr",
     "output_type": "stream",
     "text": [
      "                                                               "
     ]
    },
    {
     "name": "stdout",
     "output_type": "stream",
     "text": [
      "Moviepy - Done !\n",
      "Moviepy - video ready ./videos/video.mp4\n",
      "Total reward = 9.35 +/- 0.74\n"
     ]
    },
    {
     "name": "stderr",
     "output_type": "stream",
     "text": [
      "\r"
     ]
    }
   ],
   "source": [
    "import moviepy\n",
    "\n",
    "eval_env = gym.make(env_id, render_mode=\"rgb_array\")\n",
    "video_name = f\"FQI_{env_id}\"\n",
    "\n",
    "# How many episodes to show in the video\n",
    "n_eval_episodes = 100\n",
    "\n",
    "evaluate(model, eval_env, n_eval_episodes, video_name = 'video')"
   ]
  },
  {
   "cell_type": "code",
   "execution_count": 30,
   "id": "bfc66910-de41-4622-9811-96addf8ba8d3",
   "metadata": {
    "id": "bfc66910-de41-4622-9811-96addf8ba8d3"
   },
   "outputs": [
    {
     "name": "stdout",
     "output_type": "stream",
     "text": [
      "FQI agent on CartPole-v1 after 20 iterations:\n"
     ]
    },
    {
     "data": {
      "text/html": [
       "<video alt=\"videos/video.mp4\" autoplay\n",
       "                    loop controls style=\"height: 400px;\">\n",
       "                    <source src=\"data:video/mp4;base64,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\" type=\"video/mp4\" />\n",
       "                </video>"
      ],
      "text/plain": [
       "<IPython.core.display.HTML object>"
      ]
     },
     "metadata": {},
     "output_type": "display_data"
    }
   ],
   "source": [
    "from dqn_tutorial.notebook_utils import show_videos\n",
    "\n",
    "print(f\"FQI agent on {env_id} after {n_iterations} iterations:\")\n",
    "show_videos(\"./videos/\", prefix='video')"
   ]
  },
  {
   "cell_type": "markdown",
   "id": "69a60230-6477-4318-8d60-10f6eada6064",
   "metadata": {
    "id": "69a60230-6477-4318-8d60-10f6eada6064"
   },
   "source": [
    "### Going further\n",
    "\n",
    "- play with different models, and with their hyperparameters\n",
    "- play with the discount factor\n",
    "- play with the number of data collected/used\n",
    "- combine data from random policy with data from trained model"
   ]
  },
  {
   "cell_type": "markdown",
   "id": "40b8a44f-d48c-4a9d-8ed4-968c1ffb9948",
   "metadata": {
    "id": "40b8a44f-d48c-4a9d-8ed4-968c1ffb9948"
   },
   "source": [
    "## Conclusion\n",
    "\n",
    "What we have seen in this notebook:\n",
    "- collecting data using a random agent in a gym environment\n",
    "- predicting q-values using a regression model\n",
    "- the fitted q-iteration (FQI) algorithm to learn from an offline dataset"
   ]
  },
  {
   "cell_type": "code",
   "execution_count": null,
   "id": "761010b8-86dd-4958-b097-2912606b4493",
   "metadata": {
    "id": "761010b8-86dd-4958-b097-2912606b4493"
   },
   "outputs": [],
   "source": []
  }
 ],
 "metadata": {
  "colab": {
   "provenance": []
  },
  "kernelspec": {
   "display_name": "Python 3 (ipykernel)",
   "language": "python",
   "name": "python3"
  },
  "language_info": {
   "codemirror_mode": {
    "name": "ipython",
    "version": 3
   },
   "file_extension": ".py",
   "mimetype": "text/x-python",
   "name": "python",
   "nbconvert_exporter": "python",
   "pygments_lexer": "ipython3",
   "version": "3.11.4"
  }
 },
 "nbformat": 4,
 "nbformat_minor": 5
}
